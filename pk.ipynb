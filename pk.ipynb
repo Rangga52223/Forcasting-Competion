{
 "cells": [
  {
   "cell_type": "code",
   "execution_count": 1,
   "metadata": {},
   "outputs": [],
   "source": [
    "import pandas as pd\n",
    "import numpy as np"
   ]
  },
  {
   "cell_type": "code",
   "execution_count": 2,
   "metadata": {},
   "outputs": [],
   "source": [
    "df_train = pd.read_csv('df_train.csv')"
   ]
  },
  {
   "cell_type": "code",
   "execution_count": 3,
   "metadata": {},
   "outputs": [
    {
     "data": {
      "text/plain": [
       "(4007419, 8)"
      ]
     },
     "execution_count": 3,
     "metadata": {},
     "output_type": "execute_result"
    }
   ],
   "source": [
    "df_train.shape"
   ]
  },
  {
   "cell_type": "code",
   "execution_count": 4,
   "metadata": {},
   "outputs": [],
   "source": [
    "df_test = pd.read_csv('df_test.csv')"
   ]
  },
  {
   "cell_type": "code",
   "execution_count": 5,
   "metadata": {},
   "outputs": [
    {
     "ename": "KeyboardInterrupt",
     "evalue": "",
     "output_type": "error",
     "traceback": [
      "\u001b[1;31m---------------------------------------------------------------------------\u001b[0m",
      "\u001b[1;31mKeyboardInterrupt\u001b[0m                         Traceback (most recent call last)",
      "\u001b[1;32m~\\AppData\\Local\\Temp\\ipykernel_3348\\3763832518.py\u001b[0m in \u001b[0;36m?\u001b[1;34m()\u001b[0m\n\u001b[0;32m      1\u001b[0m \u001b[1;31m# Compute the correlation matrix for 'sales' and other columns excluding 'date'\u001b[0m\u001b[1;33m\u001b[0m\u001b[1;33m\u001b[0m\u001b[0m\n\u001b[1;32m----> 2\u001b[1;33m \u001b[0mcorr_sales\u001b[0m \u001b[1;33m=\u001b[0m \u001b[0mdf_train\u001b[0m\u001b[1;33m.\u001b[0m\u001b[0mdrop\u001b[0m\u001b[1;33m(\u001b[0m\u001b[0mcolumns\u001b[0m\u001b[1;33m=\u001b[0m\u001b[1;33m[\u001b[0m\u001b[1;34m'date'\u001b[0m\u001b[1;33m]\u001b[0m\u001b[1;33m)\u001b[0m\u001b[1;33m.\u001b[0m\u001b[0mcorr\u001b[0m\u001b[1;33m(\u001b[0m\u001b[1;33m)\u001b[0m\u001b[1;33m[\u001b[0m\u001b[1;34m'sales'\u001b[0m\u001b[1;33m]\u001b[0m\u001b[1;33m.\u001b[0m\u001b[0mdrop\u001b[0m\u001b[1;33m(\u001b[0m\u001b[1;34m'sales'\u001b[0m\u001b[1;33m)\u001b[0m\u001b[1;33m\u001b[0m\u001b[1;33m\u001b[0m\u001b[0m\n\u001b[0m\u001b[0;32m      3\u001b[0m \u001b[1;33m\u001b[0m\u001b[0m\n\u001b[0;32m      4\u001b[0m \u001b[1;31m# Set up the matplotlib figure\u001b[0m\u001b[1;33m\u001b[0m\u001b[1;33m\u001b[0m\u001b[0m\n\u001b[0;32m      5\u001b[0m \u001b[0mf\u001b[0m\u001b[1;33m,\u001b[0m \u001b[0max\u001b[0m \u001b[1;33m=\u001b[0m \u001b[0mplt\u001b[0m\u001b[1;33m.\u001b[0m\u001b[0msubplots\u001b[0m\u001b[1;33m(\u001b[0m\u001b[0mfigsize\u001b[0m\u001b[1;33m=\u001b[0m\u001b[1;33m(\u001b[0m\u001b[1;36m8\u001b[0m\u001b[1;33m,\u001b[0m \u001b[1;36m6\u001b[0m\u001b[1;33m)\u001b[0m\u001b[1;33m)\u001b[0m\u001b[1;33m\u001b[0m\u001b[1;33m\u001b[0m\u001b[0m\n",
      "\u001b[1;32mc:\\Users\\USER\\AppData\\Local\\Programs\\Python\\Python312\\Lib\\site-packages\\pandas\\core\\frame.py\u001b[0m in \u001b[0;36m?\u001b[1;34m(self, method, min_periods, numeric_only)\u001b[0m\n\u001b[0;32m  11048\u001b[0m         \u001b[0midx\u001b[0m \u001b[1;33m=\u001b[0m \u001b[0mcols\u001b[0m\u001b[1;33m.\u001b[0m\u001b[0mcopy\u001b[0m\u001b[1;33m(\u001b[0m\u001b[1;33m)\u001b[0m\u001b[1;33m\u001b[0m\u001b[1;33m\u001b[0m\u001b[0m\n\u001b[0;32m  11049\u001b[0m         \u001b[0mmat\u001b[0m \u001b[1;33m=\u001b[0m \u001b[0mdata\u001b[0m\u001b[1;33m.\u001b[0m\u001b[0mto_numpy\u001b[0m\u001b[1;33m(\u001b[0m\u001b[0mdtype\u001b[0m\u001b[1;33m=\u001b[0m\u001b[0mfloat\u001b[0m\u001b[1;33m,\u001b[0m \u001b[0mna_value\u001b[0m\u001b[1;33m=\u001b[0m\u001b[0mnp\u001b[0m\u001b[1;33m.\u001b[0m\u001b[0mnan\u001b[0m\u001b[1;33m,\u001b[0m \u001b[0mcopy\u001b[0m\u001b[1;33m=\u001b[0m\u001b[1;32mFalse\u001b[0m\u001b[1;33m)\u001b[0m\u001b[1;33m\u001b[0m\u001b[1;33m\u001b[0m\u001b[0m\n\u001b[0;32m  11050\u001b[0m \u001b[1;33m\u001b[0m\u001b[0m\n\u001b[0;32m  11051\u001b[0m         \u001b[1;32mif\u001b[0m \u001b[0mmethod\u001b[0m \u001b[1;33m==\u001b[0m \u001b[1;34m\"pearson\"\u001b[0m\u001b[1;33m:\u001b[0m\u001b[1;33m\u001b[0m\u001b[1;33m\u001b[0m\u001b[0m\n\u001b[1;32m> 11052\u001b[1;33m             \u001b[0mcorrel\u001b[0m \u001b[1;33m=\u001b[0m \u001b[0mlibalgos\u001b[0m\u001b[1;33m.\u001b[0m\u001b[0mnancorr\u001b[0m\u001b[1;33m(\u001b[0m\u001b[0mmat\u001b[0m\u001b[1;33m,\u001b[0m \u001b[0mminp\u001b[0m\u001b[1;33m=\u001b[0m\u001b[0mmin_periods\u001b[0m\u001b[1;33m)\u001b[0m\u001b[1;33m\u001b[0m\u001b[1;33m\u001b[0m\u001b[0m\n\u001b[0m\u001b[0;32m  11053\u001b[0m         \u001b[1;32melif\u001b[0m \u001b[0mmethod\u001b[0m \u001b[1;33m==\u001b[0m \u001b[1;34m\"spearman\"\u001b[0m\u001b[1;33m:\u001b[0m\u001b[1;33m\u001b[0m\u001b[1;33m\u001b[0m\u001b[0m\n\u001b[0;32m  11054\u001b[0m             \u001b[0mcorrel\u001b[0m \u001b[1;33m=\u001b[0m \u001b[0mlibalgos\u001b[0m\u001b[1;33m.\u001b[0m\u001b[0mnancorr_spearman\u001b[0m\u001b[1;33m(\u001b[0m\u001b[0mmat\u001b[0m\u001b[1;33m,\u001b[0m \u001b[0mminp\u001b[0m\u001b[1;33m=\u001b[0m\u001b[0mmin_periods\u001b[0m\u001b[1;33m)\u001b[0m\u001b[1;33m\u001b[0m\u001b[1;33m\u001b[0m\u001b[0m\n\u001b[0;32m  11055\u001b[0m         \u001b[1;32melif\u001b[0m \u001b[0mmethod\u001b[0m \u001b[1;33m==\u001b[0m \u001b[1;34m\"kendall\"\u001b[0m \u001b[1;32mor\u001b[0m \u001b[0mcallable\u001b[0m\u001b[1;33m(\u001b[0m\u001b[0mmethod\u001b[0m\u001b[1;33m)\u001b[0m\u001b[1;33m:\u001b[0m\u001b[1;33m\u001b[0m\u001b[1;33m\u001b[0m\u001b[0m\n",
      "\u001b[1;31mKeyboardInterrupt\u001b[0m: "
     ]
    }
   ],
   "source": [
    "# Compute the correlation matrix for 'sales' and other columns excluding 'date'\n",
    "corr_sales = df_train.drop(columns=['date']).corr()['sales'].drop('sales')\n",
    "\n",
    "# Set up the matplotlib figure\n",
    "f, ax = plt.subplots(figsize=(8, 6))\n",
    "\n",
    "# Generate a custom diverging colormap\n",
    "cmap = sns.diverging_palette(230, 20, as_cmap=True)\n",
    "\n",
    "# Draw the heatmap\n",
    "sns.heatmap(corr_sales.to_frame(), annot=True, cmap=cmap, center=0, linewidths=.5, cbar_kws={\"shrink\": .5})\n",
    "\n",
    "plt.title('Correlation of Sales with Other Features in df_train')\n",
    "plt.show()\n"
   ]
  },
  {
   "cell_type": "code",
   "execution_count": 6,
   "metadata": {},
   "outputs": [],
   "source": [
    "df = pd.read_csv(\"df_train.csv\")  # Sesuaikan dengan nama file\n",
    "df['date'] = pd.to_datetime(df['date'])  # Pastikan kolom date dalam format datetime\n",
    "df = df.sort_values(by='date')  # Urutkan berdasarkan tanggal"
   ]
  },
  {
   "cell_type": "code",
   "execution_count": 7,
   "metadata": {},
   "outputs": [],
   "source": [
    "df_agg = df.groupby(['date']).agg({\n",
    "    'total_orders': 'sum',  # Total order di semua warehouse\n",
    "    'sales': 'sum',  # Total sales (TARGET)\n",
    "    'sell_price_main': 'mean',  # Harga rata-rata\n",
    "    'total_discount': 'mean',  # Rata-rata diskon\n",
    "    'shops_closed': 'sum',  # Berapa banyak toko yang tutup pada hari itu\n",
    "    'total_holidays': 'sum'  # Total hari libur nasional\n",
    "}).reset_index()"
   ]
  },
  {
   "cell_type": "code",
   "execution_count": 8,
   "metadata": {},
   "outputs": [],
   "source": [
    "df_agg['date'] = pd.to_datetime(df_agg['date'])\n",
    "df_agg['dayofweek'] = df_agg['date'].dt.dayofweek  # Hari dalam seminggu (0 = Senin)\n",
    "df_agg['month'] = df_agg['date'].dt.month  # Bulan dalam tahun\n",
    "df_agg['weekofyear'] = df_agg['date'].dt.isocalendar().week  # Minggu dalam tahun\n",
    "df_agg['year'] = df_agg['date'].dt.year"
   ]
  },
  {
   "cell_type": "code",
   "execution_count": 10,
   "metadata": {},
   "outputs": [],
   "source": [
    "from sklearn.preprocessing import MinMaxScaler\n",
    "\n",
    "feature_cols = ['total_orders', 'sell_price_main', 'total_discount', 'shops_closed', 'total_holidays', 'dayofweek', 'month', 'weekofyear', 'year']\n",
    "target_col = ['sales']\n",
    "\n",
    "scaler = MinMaxScaler()"
   ]
  },
  {
   "cell_type": "code",
   "execution_count": 11,
   "metadata": {},
   "outputs": [
    {
     "name": "stdout",
     "output_type": "stream",
     "text": [
      "Shape X: (1329, 60, 9)\n",
      "Shape y: (1329, 14)\n"
     ]
    }
   ],
   "source": [
    "def create_sequences(data, lookback=30, horizon=14):\n",
    "    X, y = [], []\n",
    "    for i in range(len(data) - lookback - horizon + 1):\n",
    "        X.append(data[i:(i + lookback), :-1])  # Semua fitur kecuali sales\n",
    "        y.append(data[i + lookback:i + lookback + horizon, -1])  # Sales 14 hari ke depan\n",
    "    return np.array(X), np.array(y)\n",
    "df_agg[feature_cols + target_col] = scaler.fit_transform(df_agg[feature_cols + target_col])\n",
    "data_values = df_agg[feature_cols + target_col].values  \n",
    "X, y = create_sequences(data_values, lookback=60, horizon=14)\n",
    "\n",
    "print(f\"Shape X: {X.shape}\")  # (samples, 60, fitur)\n",
    "print(f\"Shape y: {y.shape}\")  # (samples, 14) -> memprediksi 14 hari ke depan"
   ]
  },
  {
   "cell_type": "code",
   "execution_count": 12,
   "metadata": {},
   "outputs": [
    {
     "name": "stdout",
     "output_type": "stream",
     "text": [
      "Training Data Shape: X_train=(1063, 60, 9), y_train=(1063, 14)\n",
      "Validation Data Shape: X_val=(266, 60, 9), y_val=(266, 14)\n"
     ]
    }
   ],
   "source": [
    "from sklearn.model_selection import train_test_split\n",
    "\n",
    "X_train, X_val, y_train, y_val = train_test_split(X, y, test_size=0.2, shuffle=False)\n",
    "\n",
    "print(f\"Training Data Shape: X_train={X_train.shape}, y_train={y_train.shape}\")\n",
    "print(f\"Validation Data Shape: X_val={X_val.shape}, y_val={y_val.shape}\")"
   ]
  },
  {
   "cell_type": "code",
   "execution_count": 13,
   "metadata": {},
   "outputs": [
    {
     "name": "stdout",
     "output_type": "stream",
     "text": [
      "Mean Squared Error: 0.008654684471258068\n"
     ]
    }
   ],
   "source": [
    "from sklearn.linear_model import LinearRegression\n",
    "from sklearn.metrics import mean_squared_error\n",
    "\n",
    "# Inisialisasi model regresi linear\n",
    "model = LinearRegression()\n",
    "\n",
    "# Melatih model pada data training\n",
    "model.fit(X_train.reshape(X_train.shape[0], -1), y_train)\n",
    "\n",
    "# Memprediksi pada data validation\n",
    "y_pred = model.predict(X_val.reshape(X_val.shape[0], -1))\n",
    "\n",
    "# Menghitung Mean Squared Error (MSE)\n",
    "mse = mean_squared_error(y_val, y_pred)\n",
    "print(f\"Mean Squared Error: {mse}\")"
   ]
  },
  {
   "cell_type": "code",
   "execution_count": 14,
   "metadata": {},
   "outputs": [
    {
     "name": "stdout",
     "output_type": "stream",
     "text": [
      "Validation MSE for Decision Tree: 0.0209\n"
     ]
    }
   ],
   "source": [
    "from sklearn.tree import DecisionTreeRegressor\n",
    "from sklearn.metrics import mean_squared_error\n",
    "\n",
    "# Define the Decision Tree model\n",
    "model_dt = DecisionTreeRegressor(random_state=42)\n",
    "\n",
    "# Train the model\n",
    "model_dt.fit(X_train.reshape(X_train.shape[0], -1), y_train)\n",
    "\n",
    "# Evaluate the model\n",
    "y_pred_dt = model_dt.predict(X_val.reshape(X_val.shape[0], -1))\n",
    "mse_dt = mean_squared_error(y_val, y_pred_dt)\n",
    "print(f\"Validation MSE for Decision Tree: {mse_dt:.4f}\")"
   ]
  },
  {
   "cell_type": "code",
   "execution_count": 15,
   "metadata": {},
   "outputs": [],
   "source": [
    "df_test['date'] = pd.to_datetime(df_test['date'])\n",
    "df_test['dayofweek'] = df_test['date'].dt.dayofweek  # Hari dalam seminggu (0 = Senin)\n",
    "df_test['month'] = df_test['date'].dt.month  # Bulan dalam tahun\n",
    "df_test['weekofyear'] = df_test['date'].dt.isocalendar().week  # Minggu dalam tahun\n",
    "df_test['year'] = df_test['date'].dt.year "
   ]
  },
  {
   "cell_type": "code",
   "execution_count": 16,
   "metadata": {},
   "outputs": [],
   "source": [
    "X_test_values = df_test[feature_cols].values"
   ]
  },
  {
   "cell_type": "code",
   "execution_count": 20,
   "metadata": {},
   "outputs": [
    {
     "name": "stdout",
     "output_type": "stream",
     "text": [
      "(47021, 60, 9)\n"
     ]
    }
   ],
   "source": [
    "def create_test_sequences(data, lookback=30):\n",
    "\tX = []\n",
    "\tfor i in range(len(data) - lookback + 1):\n",
    "\t\tX.append(data[i:(i + lookback), :])\n",
    "\treturn np.array(X)\n",
    "\n",
    "lookback = 60\n",
    "\n",
    "# Padding dengan nilai rata-rata atau nol di awal\n",
    "pad_value = np.mean(X_test_values, axis=0)  # Bisa juga pakai np.zeros(X_test_values.shape[1])\n",
    "X_test_padded = np.vstack([np.tile(pad_value, (lookback - 1, 1)), X_test_values])\n",
    "\n",
    "# Membuat sequence tanpa kehilangan data\n",
    "X_test_seq = create_test_sequences(X_test_padded, lookback)\n",
    "print(X_test_seq.shape)  # Harus tetap (47021, lookback, fitur)\n"
   ]
  },
  {
   "cell_type": "code",
   "execution_count": 21,
   "metadata": {},
   "outputs": [
    {
     "name": "stdout",
     "output_type": "stream",
     "text": [
      "Shape of predicted_sales: (47021, 14)\n"
     ]
    }
   ],
   "source": [
    "X_test_seq = X_test_seq.astype(np.float32)\n",
    "\n",
    "# Jika X_test_seq memiliki 3 dimensi (samples, timesteps, features), ubah ke 2D\n",
    "if len(X_test_seq.shape) == 3:\n",
    "    X_test_seq_reshaped = X_test_seq.reshape(X_test_seq.shape[0] * X_test_seq.shape[1], X_test_seq.shape[2])\n",
    "else:\n",
    "    X_test_seq_reshaped = X_test_seq  # Jika sudah 2D, langsung gunakan\n",
    "\n",
    "X_test_seq_reshaped = X_test_seq_reshaped.reshape(X_test_seq.shape[0], X_test_seq.shape[1], X_test_seq.shape[2])\n",
    "\n",
    "# Prediksi menggunakan SVR\n",
    "predicted_sales = model_dt.predict(X_test_seq_reshaped.reshape(X_test_seq_reshaped.shape[0], -1))\n",
    "\n",
    "# Periksa kembali bentuk hasil prediksi\n",
    "print(f\"Shape of predicted_sales: {predicted_sales.shape}\")"
   ]
  },
  {
   "cell_type": "code",
   "execution_count": 22,
   "metadata": {},
   "outputs": [],
   "source": [
    "df_test['id'] = df_test['unique_id'].astype(str) + \"_\" + df_test['date'].astype(str)"
   ]
  },
  {
   "cell_type": "code",
   "execution_count": 23,
   "metadata": {},
   "outputs": [],
   "source": [
    "# Ensure the predicted_sales array is reshaped to match the length of df_test\n",
    "predicted_sales_reshaped = predicted_sales[:len(df_test)].flatten()[:len(df_test)]\n",
    "\n",
    "df_submission = pd.DataFrame({\n",
    "    \"id\": df_test['id'],  \n",
    "    \"sales_hat\": predicted_sales_reshaped  # Ensure 1D array\n",
    "})"
   ]
  },
  {
   "cell_type": "code",
   "execution_count": 24,
   "metadata": {},
   "outputs": [],
   "source": [
    "df_submission.to_csv(\"cek3.csv\", index=False)"
   ]
  }
 ],
 "metadata": {
  "kernelspec": {
   "display_name": "Python 3",
   "language": "python",
   "name": "python3"
  },
  "language_info": {
   "codemirror_mode": {
    "name": "ipython",
    "version": 3
   },
   "file_extension": ".py",
   "mimetype": "text/x-python",
   "name": "python",
   "nbconvert_exporter": "python",
   "pygments_lexer": "ipython3",
   "version": "3.12.2"
  }
 },
 "nbformat": 4,
 "nbformat_minor": 2
}
